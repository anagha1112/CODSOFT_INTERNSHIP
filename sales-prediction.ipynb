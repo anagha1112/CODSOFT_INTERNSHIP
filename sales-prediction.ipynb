{
 "cells": [
  {
   "cell_type": "code",
   "execution_count": 1,
   "id": "669fa150",
   "metadata": {
    "_cell_guid": "b1076dfc-b9ad-4769-8c92-a6c4dae69d19",
    "_uuid": "8f2839f25d086af736a60e9eeb907d3b93b6e0e5",
    "execution": {
     "iopub.execute_input": "2025-06-06T14:54:38.692383Z",
     "iopub.status.busy": "2025-06-06T14:54:38.691915Z",
     "iopub.status.idle": "2025-06-06T14:54:41.024311Z",
     "shell.execute_reply": "2025-06-06T14:54:41.022693Z"
    },
    "papermill": {
     "duration": 2.342796,
     "end_time": "2025-06-06T14:54:41.026604",
     "exception": false,
     "start_time": "2025-06-06T14:54:38.683808",
     "status": "completed"
    },
    "tags": []
   },
   "outputs": [
    {
     "name": "stdout",
     "output_type": "stream",
     "text": [
      "/kaggle/input/advertising-sales-dataset/Advertising Budget and Sales.csv\n"
     ]
    }
   ],
   "source": [
    "# This Python 3 environment comes with many helpful analytics libraries installed\n",
    "# It is defined by the kaggle/python Docker image: https://github.com/kaggle/docker-python\n",
    "# For example, here's several helpful packages to load\n",
    "\n",
    "import numpy as np # linear algebra\n",
    "import pandas as pd # data processing, CSV file I/O (e.g. pd.read_csv)\n",
    "\n",
    "# Input data files are available in the read-only \"../input/\" directory\n",
    "# For example, running this (by clicking run or pressing Shift+Enter) will list all files under the input directory\n",
    "\n",
    "import os\n",
    "for dirname, _, filenames in os.walk('/kaggle/input'):\n",
    "    for filename in filenames:\n",
    "        print(os.path.join(dirname, filename))\n",
    "\n",
    "# You can write up to 20GB to the current directory (/kaggle/working/) that gets preserved as output when you create a version using \"Save & Run All\" \n",
    "# You can also write temporary files to /kaggle/temp/, but they won't be saved outside of the current session"
   ]
  },
  {
   "cell_type": "code",
   "execution_count": 2,
   "id": "059c754c",
   "metadata": {
    "execution": {
     "iopub.execute_input": "2025-06-06T14:54:41.040783Z",
     "iopub.status.busy": "2025-06-06T14:54:41.040191Z",
     "iopub.status.idle": "2025-06-06T14:54:41.064990Z",
     "shell.execute_reply": "2025-06-06T14:54:41.063835Z"
    },
    "papermill": {
     "duration": 0.034157,
     "end_time": "2025-06-06T14:54:41.067035",
     "exception": false,
     "start_time": "2025-06-06T14:54:41.032878",
     "status": "completed"
    },
    "tags": []
   },
   "outputs": [],
   "source": [
    "df = pd.read_csv(\"/kaggle/input/advertising-sales-dataset/Advertising Budget and Sales.csv\")"
   ]
  },
  {
   "cell_type": "code",
   "execution_count": 3,
   "id": "c2df78a8",
   "metadata": {
    "execution": {
     "iopub.execute_input": "2025-06-06T14:54:41.079358Z",
     "iopub.status.busy": "2025-06-06T14:54:41.078987Z",
     "iopub.status.idle": "2025-06-06T14:54:41.108765Z",
     "shell.execute_reply": "2025-06-06T14:54:41.107467Z"
    },
    "papermill": {
     "duration": 0.038557,
     "end_time": "2025-06-06T14:54:41.111032",
     "exception": false,
     "start_time": "2025-06-06T14:54:41.072475",
     "status": "completed"
    },
    "tags": []
   },
   "outputs": [
    {
     "data": {
      "text/html": [
       "<div>\n",
       "<style scoped>\n",
       "    .dataframe tbody tr th:only-of-type {\n",
       "        vertical-align: middle;\n",
       "    }\n",
       "\n",
       "    .dataframe tbody tr th {\n",
       "        vertical-align: top;\n",
       "    }\n",
       "\n",
       "    .dataframe thead th {\n",
       "        text-align: right;\n",
       "    }\n",
       "</style>\n",
       "<table border=\"1\" class=\"dataframe\">\n",
       "  <thead>\n",
       "    <tr style=\"text-align: right;\">\n",
       "      <th></th>\n",
       "      <th>Unnamed: 0</th>\n",
       "      <th>TV Ad Budget ($)</th>\n",
       "      <th>Radio Ad Budget ($)</th>\n",
       "      <th>Newspaper Ad Budget ($)</th>\n",
       "      <th>Sales ($)</th>\n",
       "    </tr>\n",
       "  </thead>\n",
       "  <tbody>\n",
       "    <tr>\n",
       "      <th>0</th>\n",
       "      <td>1</td>\n",
       "      <td>230.1</td>\n",
       "      <td>37.8</td>\n",
       "      <td>69.2</td>\n",
       "      <td>22.1</td>\n",
       "    </tr>\n",
       "    <tr>\n",
       "      <th>1</th>\n",
       "      <td>2</td>\n",
       "      <td>44.5</td>\n",
       "      <td>39.3</td>\n",
       "      <td>45.1</td>\n",
       "      <td>10.4</td>\n",
       "    </tr>\n",
       "    <tr>\n",
       "      <th>2</th>\n",
       "      <td>3</td>\n",
       "      <td>17.2</td>\n",
       "      <td>45.9</td>\n",
       "      <td>69.3</td>\n",
       "      <td>9.3</td>\n",
       "    </tr>\n",
       "    <tr>\n",
       "      <th>3</th>\n",
       "      <td>4</td>\n",
       "      <td>151.5</td>\n",
       "      <td>41.3</td>\n",
       "      <td>58.5</td>\n",
       "      <td>18.5</td>\n",
       "    </tr>\n",
       "    <tr>\n",
       "      <th>4</th>\n",
       "      <td>5</td>\n",
       "      <td>180.8</td>\n",
       "      <td>10.8</td>\n",
       "      <td>58.4</td>\n",
       "      <td>12.9</td>\n",
       "    </tr>\n",
       "  </tbody>\n",
       "</table>\n",
       "</div>"
      ],
      "text/plain": [
       "   Unnamed: 0  TV Ad Budget ($)  Radio Ad Budget ($)  Newspaper Ad Budget ($)  \\\n",
       "0           1             230.1                 37.8                     69.2   \n",
       "1           2              44.5                 39.3                     45.1   \n",
       "2           3              17.2                 45.9                     69.3   \n",
       "3           4             151.5                 41.3                     58.5   \n",
       "4           5             180.8                 10.8                     58.4   \n",
       "\n",
       "   Sales ($)  \n",
       "0       22.1  \n",
       "1       10.4  \n",
       "2        9.3  \n",
       "3       18.5  \n",
       "4       12.9  "
      ]
     },
     "execution_count": 3,
     "metadata": {},
     "output_type": "execute_result"
    }
   ],
   "source": [
    "df.head()"
   ]
  },
  {
   "cell_type": "code",
   "execution_count": 4,
   "id": "8412e9e4",
   "metadata": {
    "execution": {
     "iopub.execute_input": "2025-06-06T14:54:41.123662Z",
     "iopub.status.busy": "2025-06-06T14:54:41.123299Z",
     "iopub.status.idle": "2025-06-06T14:54:41.152286Z",
     "shell.execute_reply": "2025-06-06T14:54:41.151064Z"
    },
    "papermill": {
     "duration": 0.037325,
     "end_time": "2025-06-06T14:54:41.154155",
     "exception": false,
     "start_time": "2025-06-06T14:54:41.116830",
     "status": "completed"
    },
    "tags": []
   },
   "outputs": [
    {
     "name": "stdout",
     "output_type": "stream",
     "text": [
      "<class 'pandas.core.frame.DataFrame'>\n",
      "RangeIndex: 200 entries, 0 to 199\n",
      "Data columns (total 5 columns):\n",
      " #   Column                   Non-Null Count  Dtype  \n",
      "---  ------                   --------------  -----  \n",
      " 0   Unnamed: 0               200 non-null    int64  \n",
      " 1   TV Ad Budget ($)         200 non-null    float64\n",
      " 2   Radio Ad Budget ($)      200 non-null    float64\n",
      " 3   Newspaper Ad Budget ($)  200 non-null    float64\n",
      " 4   Sales ($)                200 non-null    float64\n",
      "dtypes: float64(4), int64(1)\n",
      "memory usage: 7.9 KB\n"
     ]
    }
   ],
   "source": [
    "df.info()"
   ]
  },
  {
   "cell_type": "code",
   "execution_count": 5,
   "id": "71847d3f",
   "metadata": {
    "execution": {
     "iopub.execute_input": "2025-06-06T14:54:41.166485Z",
     "iopub.status.busy": "2025-06-06T14:54:41.166124Z",
     "iopub.status.idle": "2025-06-06T14:54:41.172544Z",
     "shell.execute_reply": "2025-06-06T14:54:41.171476Z"
    },
    "papermill": {
     "duration": 0.014413,
     "end_time": "2025-06-06T14:54:41.174153",
     "exception": false,
     "start_time": "2025-06-06T14:54:41.159740",
     "status": "completed"
    },
    "tags": []
   },
   "outputs": [
    {
     "data": {
      "text/plain": [
       "(200, 5)"
      ]
     },
     "execution_count": 5,
     "metadata": {},
     "output_type": "execute_result"
    }
   ],
   "source": [
    "df.shape"
   ]
  },
  {
   "cell_type": "code",
   "execution_count": 6,
   "id": "3ccfedbf",
   "metadata": {
    "execution": {
     "iopub.execute_input": "2025-06-06T14:54:41.186331Z",
     "iopub.status.busy": "2025-06-06T14:54:41.186027Z",
     "iopub.status.idle": "2025-06-06T14:54:41.215042Z",
     "shell.execute_reply": "2025-06-06T14:54:41.214141Z"
    },
    "papermill": {
     "duration": 0.037295,
     "end_time": "2025-06-06T14:54:41.216931",
     "exception": false,
     "start_time": "2025-06-06T14:54:41.179636",
     "status": "completed"
    },
    "tags": []
   },
   "outputs": [
    {
     "data": {
      "text/html": [
       "<div>\n",
       "<style scoped>\n",
       "    .dataframe tbody tr th:only-of-type {\n",
       "        vertical-align: middle;\n",
       "    }\n",
       "\n",
       "    .dataframe tbody tr th {\n",
       "        vertical-align: top;\n",
       "    }\n",
       "\n",
       "    .dataframe thead th {\n",
       "        text-align: right;\n",
       "    }\n",
       "</style>\n",
       "<table border=\"1\" class=\"dataframe\">\n",
       "  <thead>\n",
       "    <tr style=\"text-align: right;\">\n",
       "      <th></th>\n",
       "      <th>Unnamed: 0</th>\n",
       "      <th>TV Ad Budget ($)</th>\n",
       "      <th>Radio Ad Budget ($)</th>\n",
       "      <th>Newspaper Ad Budget ($)</th>\n",
       "      <th>Sales ($)</th>\n",
       "    </tr>\n",
       "  </thead>\n",
       "  <tbody>\n",
       "    <tr>\n",
       "      <th>count</th>\n",
       "      <td>200.000000</td>\n",
       "      <td>200.000000</td>\n",
       "      <td>200.000000</td>\n",
       "      <td>200.000000</td>\n",
       "      <td>200.000000</td>\n",
       "    </tr>\n",
       "    <tr>\n",
       "      <th>mean</th>\n",
       "      <td>100.500000</td>\n",
       "      <td>147.042500</td>\n",
       "      <td>23.264000</td>\n",
       "      <td>30.554000</td>\n",
       "      <td>14.022500</td>\n",
       "    </tr>\n",
       "    <tr>\n",
       "      <th>std</th>\n",
       "      <td>57.879185</td>\n",
       "      <td>85.854236</td>\n",
       "      <td>14.846809</td>\n",
       "      <td>21.778621</td>\n",
       "      <td>5.217457</td>\n",
       "    </tr>\n",
       "    <tr>\n",
       "      <th>min</th>\n",
       "      <td>1.000000</td>\n",
       "      <td>0.700000</td>\n",
       "      <td>0.000000</td>\n",
       "      <td>0.300000</td>\n",
       "      <td>1.600000</td>\n",
       "    </tr>\n",
       "    <tr>\n",
       "      <th>25%</th>\n",
       "      <td>50.750000</td>\n",
       "      <td>74.375000</td>\n",
       "      <td>9.975000</td>\n",
       "      <td>12.750000</td>\n",
       "      <td>10.375000</td>\n",
       "    </tr>\n",
       "    <tr>\n",
       "      <th>50%</th>\n",
       "      <td>100.500000</td>\n",
       "      <td>149.750000</td>\n",
       "      <td>22.900000</td>\n",
       "      <td>25.750000</td>\n",
       "      <td>12.900000</td>\n",
       "    </tr>\n",
       "    <tr>\n",
       "      <th>75%</th>\n",
       "      <td>150.250000</td>\n",
       "      <td>218.825000</td>\n",
       "      <td>36.525000</td>\n",
       "      <td>45.100000</td>\n",
       "      <td>17.400000</td>\n",
       "    </tr>\n",
       "    <tr>\n",
       "      <th>max</th>\n",
       "      <td>200.000000</td>\n",
       "      <td>296.400000</td>\n",
       "      <td>49.600000</td>\n",
       "      <td>114.000000</td>\n",
       "      <td>27.000000</td>\n",
       "    </tr>\n",
       "  </tbody>\n",
       "</table>\n",
       "</div>"
      ],
      "text/plain": [
       "       Unnamed: 0  TV Ad Budget ($)  Radio Ad Budget ($)  \\\n",
       "count  200.000000        200.000000           200.000000   \n",
       "mean   100.500000        147.042500            23.264000   \n",
       "std     57.879185         85.854236            14.846809   \n",
       "min      1.000000          0.700000             0.000000   \n",
       "25%     50.750000         74.375000             9.975000   \n",
       "50%    100.500000        149.750000            22.900000   \n",
       "75%    150.250000        218.825000            36.525000   \n",
       "max    200.000000        296.400000            49.600000   \n",
       "\n",
       "       Newspaper Ad Budget ($)   Sales ($)  \n",
       "count               200.000000  200.000000  \n",
       "mean                 30.554000   14.022500  \n",
       "std                  21.778621    5.217457  \n",
       "min                   0.300000    1.600000  \n",
       "25%                  12.750000   10.375000  \n",
       "50%                  25.750000   12.900000  \n",
       "75%                  45.100000   17.400000  \n",
       "max                 114.000000   27.000000  "
      ]
     },
     "execution_count": 6,
     "metadata": {},
     "output_type": "execute_result"
    }
   ],
   "source": [
    "df.describe()"
   ]
  },
  {
   "cell_type": "code",
   "execution_count": 7,
   "id": "e7aa9341",
   "metadata": {
    "execution": {
     "iopub.execute_input": "2025-06-06T14:54:41.230361Z",
     "iopub.status.busy": "2025-06-06T14:54:41.230029Z",
     "iopub.status.idle": "2025-06-06T14:54:44.159466Z",
     "shell.execute_reply": "2025-06-06T14:54:44.158433Z"
    },
    "papermill": {
     "duration": 2.938569,
     "end_time": "2025-06-06T14:54:44.161628",
     "exception": false,
     "start_time": "2025-06-06T14:54:41.223059",
     "status": "completed"
    },
    "tags": []
   },
   "outputs": [
    {
     "name": "stderr",
     "output_type": "stream",
     "text": [
      "/usr/local/lib/python3.11/dist-packages/seaborn/_oldcore.py:1119: FutureWarning: use_inf_as_na option is deprecated and will be removed in a future version. Convert inf values to NaN before operating instead.\n",
      "  with pd.option_context('mode.use_inf_as_na', True):\n",
      "/usr/local/lib/python3.11/dist-packages/seaborn/_oldcore.py:1119: FutureWarning: use_inf_as_na option is deprecated and will be removed in a future version. Convert inf values to NaN before operating instead.\n",
      "  with pd.option_context('mode.use_inf_as_na', True):\n",
      "/usr/local/lib/python3.11/dist-packages/seaborn/_oldcore.py:1119: FutureWarning: use_inf_as_na option is deprecated and will be removed in a future version. Convert inf values to NaN before operating instead.\n",
      "  with pd.option_context('mode.use_inf_as_na', True):\n",
      "/usr/local/lib/python3.11/dist-packages/seaborn/_oldcore.py:1119: FutureWarning: use_inf_as_na option is deprecated and will be removed in a future version. Convert inf values to NaN before operating instead.\n",
      "  with pd.option_context('mode.use_inf_as_na', True):\n",
      "/usr/local/lib/python3.11/dist-packages/seaborn/_oldcore.py:1119: FutureWarning: use_inf_as_na option is deprecated and will be removed in a future version. Convert inf values to NaN before operating instead.\n",
      "  with pd.option_context('mode.use_inf_as_na', True):\n"
     ]
    },
    {
     "data": {
      "image/png": "[encoded data removed]",
      "text/plain": [
       "<Figure size 1000x600 with 1 Axes>"
      ]
     },
     "metadata": {},
     "output_type": "display_data"
    }
   ],
   "source": [
    "import seaborn as sns\n",
    "import matplotlib.pyplot as plt\n",
    "\n",
    "plt.figure(figsize=(10, 6))\n",
    "for col in df.columns:\n",
    "\n",
    "    sns.kdeplot(df[col],  label = col)\n",
    "\n",
    "plt.title(\"Kde plot of features\")\n",
    "plt.legend()\n",
    "plt.show()"
   ]
  },
  {
   "cell_type": "code",
   "execution_count": 8,
   "id": "27278ec7",
   "metadata": {
    "execution": {
     "iopub.execute_input": "2025-06-06T14:54:44.178377Z",
     "iopub.status.busy": "2025-06-06T14:54:44.177790Z",
     "iopub.status.idle": "2025-06-06T14:54:44.185064Z",
     "shell.execute_reply": "2025-06-06T14:54:44.183929Z"
    },
    "papermill": {
     "duration": 0.017574,
     "end_time": "2025-06-06T14:54:44.186846",
     "exception": false,
     "start_time": "2025-06-06T14:54:44.169272",
     "status": "completed"
    },
    "tags": []
   },
   "outputs": [
    {
     "data": {
      "text/plain": [
       "Index(['Unnamed: 0', 'TV Ad Budget ($)', 'Radio Ad Budget ($)',\n",
       "       'Newspaper Ad Budget ($)', 'Sales ($)'],\n",
       "      dtype='object')"
      ]
     },
     "execution_count": 8,
     "metadata": {},
     "output_type": "execute_result"
    }
   ],
   "source": [
    "df.columns"
   ]
  },
  {
   "cell_type": "code",
   "execution_count": 9,
   "id": "56300a53",
   "metadata": {
    "execution": {
     "iopub.execute_input": "2025-06-06T14:54:44.202622Z",
     "iopub.status.busy": "2025-06-06T14:54:44.202312Z",
     "iopub.status.idle": "2025-06-06T14:54:44.431554Z",
     "shell.execute_reply": "2025-06-06T14:54:44.430299Z"
    },
    "papermill": {
     "duration": 0.239409,
     "end_time": "2025-06-06T14:54:44.433557",
     "exception": false,
     "start_time": "2025-06-06T14:54:44.194148",
     "status": "completed"
    },
    "tags": []
   },
   "outputs": [
    {
     "data": {
      "image/png": "[encoded data removed]",
      "text/plain": [
       "<Figure size 1000x600 with 1 Axes>"
      ]
     },
     "metadata": {},
     "output_type": "display_data"
    }
   ],
   "source": [
    "import seaborn as sns\n",
    "import matplotlib.pyplot as plt\n",
    "\n",
    "# Select only numeric columns\n",
    "numeric_cols = df.select_dtypes(include=['float64', 'int64'])\n",
    "\n",
    "plt.figure(figsize=(10, 6))\n",
    "sns.boxplot(data=numeric_cols)\n",
    "\n",
    "plt.title(\"Boxplot of Features\")\n",
    "plt.xticks(rotation=45)\n",
    "plt.show()\n"
   ]
  },
  {
   "cell_type": "code",
   "execution_count": 10,
   "id": "97306c57",
   "metadata": {
    "execution": {
     "iopub.execute_input": "2025-06-06T14:54:44.453841Z",
     "iopub.status.busy": "2025-06-06T14:54:44.453500Z",
     "iopub.status.idle": "2025-06-06T14:54:44.464891Z",
     "shell.execute_reply": "2025-06-06T14:54:44.463217Z"
    },
    "papermill": {
     "duration": 0.02277,
     "end_time": "2025-06-06T14:54:44.466811",
     "exception": false,
     "start_time": "2025-06-06T14:54:44.444041",
     "status": "completed"
    },
    "tags": []
   },
   "outputs": [],
   "source": [
    "import statistics"
   ]
  },
  {
   "cell_type": "code",
   "execution_count": 11,
   "id": "1776495d",
   "metadata": {
    "execution": {
     "iopub.execute_input": "2025-06-06T14:54:44.484215Z",
     "iopub.status.busy": "2025-06-06T14:54:44.483932Z",
     "iopub.status.idle": "2025-06-06T14:54:44.489676Z",
     "shell.execute_reply": "2025-06-06T14:54:44.488501Z"
    },
    "papermill": {
     "duration": 0.016974,
     "end_time": "2025-06-06T14:54:44.491650",
     "exception": false,
     "start_time": "2025-06-06T14:54:44.474676",
     "status": "completed"
    },
    "tags": []
   },
   "outputs": [],
   "source": [
    "def find_outliers(data):\n",
    "\n",
    "  outliers = []\n",
    "\n",
    "  data_std = statistics.stdev(data)\n",
    "  data_mean = statistics.mean(data)\n",
    "\n",
    "  cut_off = data_std * 3\n",
    "\n",
    "  lower_limit = data_mean - cut_off\n",
    "  upper_limit = data_mean + cut_off\n",
    "\n",
    "  for datapoint in data:\n",
    "\n",
    "    if datapoint > upper_limit or datapoint < lower_limit:\n",
    "\n",
    "      outliers.append(datapoint)\n",
    "\n",
    "  return outliers"
   ]
  },
  {
   "cell_type": "code",
   "execution_count": 12,
   "id": "a0431696",
   "metadata": {
    "execution": {
     "iopub.execute_input": "2025-06-06T14:54:44.508826Z",
     "iopub.status.busy": "2025-06-06T14:54:44.508523Z",
     "iopub.status.idle": "2025-06-06T14:54:44.513922Z",
     "shell.execute_reply": "2025-06-06T14:54:44.512977Z"
    },
    "papermill": {
     "duration": 0.01654,
     "end_time": "2025-06-06T14:54:44.515856",
     "exception": false,
     "start_time": "2025-06-06T14:54:44.499316",
     "status": "completed"
    },
    "tags": []
   },
   "outputs": [],
   "source": [
    "outliers_newspaper_ad = find_outliers(df['Newspaper Ad Budget ($)'])"
   ]
  },
  {
   "cell_type": "code",
   "execution_count": 13,
   "id": "da68149f",
   "metadata": {
    "execution": {
     "iopub.execute_input": "2025-06-06T14:54:44.534298Z",
     "iopub.status.busy": "2025-06-06T14:54:44.533951Z",
     "iopub.status.idle": "2025-06-06T14:54:44.542031Z",
     "shell.execute_reply": "2025-06-06T14:54:44.540264Z"
    },
    "papermill": {
     "duration": 0.02053,
     "end_time": "2025-06-06T14:54:44.544606",
     "exception": false,
     "start_time": "2025-06-06T14:54:44.524076",
     "status": "completed"
    },
    "tags": []
   },
   "outputs": [
    {
     "data": {
      "text/plain": [
       "[114.0, 100.9]"
      ]
     },
     "execution_count": 13,
     "metadata": {},
     "output_type": "execute_result"
    }
   ],
   "source": [
    "outliers_newspaper_ad"
   ]
  },
  {
   "cell_type": "code",
   "execution_count": 14,
   "id": "2227f053",
   "metadata": {
    "execution": {
     "iopub.execute_input": "2025-06-06T14:54:44.564745Z",
     "iopub.status.busy": "2025-06-06T14:54:44.564206Z",
     "iopub.status.idle": "2025-06-06T14:54:44.570532Z",
     "shell.execute_reply": "2025-06-06T14:54:44.569257Z"
    },
    "papermill": {
     "duration": 0.017827,
     "end_time": "2025-06-06T14:54:44.572482",
     "exception": false,
     "start_time": "2025-06-06T14:54:44.554655",
     "status": "completed"
    },
    "tags": []
   },
   "outputs": [],
   "source": [
    "df = df.drop('Unnamed: 0', axis=1)\n"
   ]
  },
  {
   "cell_type": "code",
   "execution_count": 15,
   "id": "326b50f6",
   "metadata": {
    "execution": {
     "iopub.execute_input": "2025-06-06T14:54:44.593890Z",
     "iopub.status.busy": "2025-06-06T14:54:44.593543Z",
     "iopub.status.idle": "2025-06-06T14:54:44.605147Z",
     "shell.execute_reply": "2025-06-06T14:54:44.604340Z"
    },
    "papermill": {
     "duration": 0.024748,
     "end_time": "2025-06-06T14:54:44.606886",
     "exception": false,
     "start_time": "2025-06-06T14:54:44.582138",
     "status": "completed"
    },
    "tags": []
   },
   "outputs": [
    {
     "data": {
      "text/html": [
       "<div>\n",
       "<style scoped>\n",
       "    .dataframe tbody tr th:only-of-type {\n",
       "        vertical-align: middle;\n",
       "    }\n",
       "\n",
       "    .dataframe tbody tr th {\n",
       "        vertical-align: top;\n",
       "    }\n",
       "\n",
       "    .dataframe thead th {\n",
       "        text-align: right;\n",
       "    }\n",
       "</style>\n",
       "<table border=\"1\" class=\"dataframe\">\n",
       "  <thead>\n",
       "    <tr style=\"text-align: right;\">\n",
       "      <th></th>\n",
       "      <th>TV Ad Budget ($)</th>\n",
       "      <th>Radio Ad Budget ($)</th>\n",
       "      <th>Newspaper Ad Budget ($)</th>\n",
       "      <th>Sales ($)</th>\n",
       "    </tr>\n",
       "  </thead>\n",
       "  <tbody>\n",
       "    <tr>\n",
       "      <th>0</th>\n",
       "      <td>230.1</td>\n",
       "      <td>37.8</td>\n",
       "      <td>69.2</td>\n",
       "      <td>22.1</td>\n",
       "    </tr>\n",
       "    <tr>\n",
       "      <th>1</th>\n",
       "      <td>44.5</td>\n",
       "      <td>39.3</td>\n",
       "      <td>45.1</td>\n",
       "      <td>10.4</td>\n",
       "    </tr>\n",
       "    <tr>\n",
       "      <th>2</th>\n",
       "      <td>17.2</td>\n",
       "      <td>45.9</td>\n",
       "      <td>69.3</td>\n",
       "      <td>9.3</td>\n",
       "    </tr>\n",
       "    <tr>\n",
       "      <th>3</th>\n",
       "      <td>151.5</td>\n",
       "      <td>41.3</td>\n",
       "      <td>58.5</td>\n",
       "      <td>18.5</td>\n",
       "    </tr>\n",
       "    <tr>\n",
       "      <th>4</th>\n",
       "      <td>180.8</td>\n",
       "      <td>10.8</td>\n",
       "      <td>58.4</td>\n",
       "      <td>12.9</td>\n",
       "    </tr>\n",
       "  </tbody>\n",
       "</table>\n",
       "</div>"
      ],
      "text/plain": [
       "   TV Ad Budget ($)  Radio Ad Budget ($)  Newspaper Ad Budget ($)  Sales ($)\n",
       "0             230.1                 37.8                     69.2       22.1\n",
       "1              44.5                 39.3                     45.1       10.4\n",
       "2              17.2                 45.9                     69.3        9.3\n",
       "3             151.5                 41.3                     58.5       18.5\n",
       "4             180.8                 10.8                     58.4       12.9"
      ]
     },
     "execution_count": 15,
     "metadata": {},
     "output_type": "execute_result"
    }
   ],
   "source": [
    "df.head()"
   ]
  },
  {
   "cell_type": "code",
   "execution_count": 16,
   "id": "a8c37732",
   "metadata": {
    "execution": {
     "iopub.execute_input": "2025-06-06T14:54:44.625120Z",
     "iopub.status.busy": "2025-06-06T14:54:44.624804Z",
     "iopub.status.idle": "2025-06-06T14:54:44.645478Z",
     "shell.execute_reply": "2025-06-06T14:54:44.644506Z"
    },
    "papermill": {
     "duration": 0.031953,
     "end_time": "2025-06-06T14:54:44.647210",
     "exception": false,
     "start_time": "2025-06-06T14:54:44.615257",
     "status": "completed"
    },
    "tags": []
   },
   "outputs": [
    {
     "data": {
      "text/html": [
       "<div>\n",
       "<style scoped>\n",
       "    .dataframe tbody tr th:only-of-type {\n",
       "        vertical-align: middle;\n",
       "    }\n",
       "\n",
       "    .dataframe tbody tr th {\n",
       "        vertical-align: top;\n",
       "    }\n",
       "\n",
       "    .dataframe thead th {\n",
       "        text-align: right;\n",
       "    }\n",
       "</style>\n",
       "<table border=\"1\" class=\"dataframe\">\n",
       "  <thead>\n",
       "    <tr style=\"text-align: right;\">\n",
       "      <th></th>\n",
       "      <th>TV Ad Budget ($)</th>\n",
       "      <th>Radio Ad Budget ($)</th>\n",
       "      <th>Newspaper Ad Budget ($)</th>\n",
       "      <th>Sales ($)</th>\n",
       "    </tr>\n",
       "  </thead>\n",
       "  <tbody>\n",
       "    <tr>\n",
       "      <th>count</th>\n",
       "      <td>200.000000</td>\n",
       "      <td>200.000000</td>\n",
       "      <td>200.000000</td>\n",
       "      <td>200.000000</td>\n",
       "    </tr>\n",
       "    <tr>\n",
       "      <th>mean</th>\n",
       "      <td>147.042500</td>\n",
       "      <td>23.264000</td>\n",
       "      <td>30.554000</td>\n",
       "      <td>14.022500</td>\n",
       "    </tr>\n",
       "    <tr>\n",
       "      <th>std</th>\n",
       "      <td>85.854236</td>\n",
       "      <td>14.846809</td>\n",
       "      <td>21.778621</td>\n",
       "      <td>5.217457</td>\n",
       "    </tr>\n",
       "    <tr>\n",
       "      <th>min</th>\n",
       "      <td>0.700000</td>\n",
       "      <td>0.000000</td>\n",
       "      <td>0.300000</td>\n",
       "      <td>1.600000</td>\n",
       "    </tr>\n",
       "    <tr>\n",
       "      <th>25%</th>\n",
       "      <td>74.375000</td>\n",
       "      <td>9.975000</td>\n",
       "      <td>12.750000</td>\n",
       "      <td>10.375000</td>\n",
       "    </tr>\n",
       "    <tr>\n",
       "      <th>50%</th>\n",
       "      <td>149.750000</td>\n",
       "      <td>22.900000</td>\n",
       "      <td>25.750000</td>\n",
       "      <td>12.900000</td>\n",
       "    </tr>\n",
       "    <tr>\n",
       "      <th>75%</th>\n",
       "      <td>218.825000</td>\n",
       "      <td>36.525000</td>\n",
       "      <td>45.100000</td>\n",
       "      <td>17.400000</td>\n",
       "    </tr>\n",
       "    <tr>\n",
       "      <th>max</th>\n",
       "      <td>296.400000</td>\n",
       "      <td>49.600000</td>\n",
       "      <td>114.000000</td>\n",
       "      <td>27.000000</td>\n",
       "    </tr>\n",
       "  </tbody>\n",
       "</table>\n",
       "</div>"
      ],
      "text/plain": [
       "       TV Ad Budget ($)  Radio Ad Budget ($)  Newspaper Ad Budget ($)  \\\n",
       "count        200.000000           200.000000               200.000000   \n",
       "mean         147.042500            23.264000                30.554000   \n",
       "std           85.854236            14.846809                21.778621   \n",
       "min            0.700000             0.000000                 0.300000   \n",
       "25%           74.375000             9.975000                12.750000   \n",
       "50%          149.750000            22.900000                25.750000   \n",
       "75%          218.825000            36.525000                45.100000   \n",
       "max          296.400000            49.600000               114.000000   \n",
       "\n",
       "        Sales ($)  \n",
       "count  200.000000  \n",
       "mean    14.022500  \n",
       "std      5.217457  \n",
       "min      1.600000  \n",
       "25%     10.375000  \n",
       "50%     12.900000  \n",
       "75%     17.400000  \n",
       "max     27.000000  "
      ]
     },
     "execution_count": 16,
     "metadata": {},
     "output_type": "execute_result"
    }
   ],
   "source": [
    "df.describe()"
   ]
  },
  {
   "cell_type": "code",
   "execution_count": 17,
   "id": "41e40d3d",
   "metadata": {
    "execution": {
     "iopub.execute_input": "2025-06-06T14:54:44.665028Z",
     "iopub.status.busy": "2025-06-06T14:54:44.664739Z",
     "iopub.status.idle": "2025-06-06T14:54:44.670438Z",
     "shell.execute_reply": "2025-06-06T14:54:44.669425Z"
    },
    "papermill": {
     "duration": 0.016846,
     "end_time": "2025-06-06T14:54:44.672072",
     "exception": false,
     "start_time": "2025-06-06T14:54:44.655226",
     "status": "completed"
    },
    "tags": []
   },
   "outputs": [],
   "source": [
    "X = df.drop('Sales ($)', axis = 1)\n",
    "y = df['Sales ($)']"
   ]
  },
  {
   "cell_type": "code",
   "execution_count": 18,
   "id": "65c25997",
   "metadata": {
    "execution": {
     "iopub.execute_input": "2025-06-06T14:54:44.689822Z",
     "iopub.status.busy": "2025-06-06T14:54:44.689471Z",
     "iopub.status.idle": "2025-06-06T14:54:45.163553Z",
     "shell.execute_reply": "2025-06-06T14:54:45.162468Z"
    },
    "papermill": {
     "duration": 0.485236,
     "end_time": "2025-06-06T14:54:45.165642",
     "exception": false,
     "start_time": "2025-06-06T14:54:44.680406",
     "status": "completed"
    },
    "tags": []
   },
   "outputs": [],
   "source": [
    "from sklearn.model_selection import train_test_split\n",
    "\n",
    "X_train, X_test, y_train, y_test = train_test_split(X, y, test_size = 0.2, random_state = 42)"
   ]
  },
  {
   "cell_type": "markdown",
   "id": "82a7b80e",
   "metadata": {
    "papermill": {
     "duration": 0.007459,
     "end_time": "2025-06-06T14:54:45.181318",
     "exception": false,
     "start_time": "2025-06-06T14:54:45.173859",
     "status": "completed"
    },
    "tags": []
   },
   "source": []
  },
  {
   "cell_type": "code",
   "execution_count": 19,
   "id": "e0a62273",
   "metadata": {
    "execution": {
     "iopub.execute_input": "2025-06-06T14:54:45.198957Z",
     "iopub.status.busy": "2025-06-06T14:54:45.198439Z",
     "iopub.status.idle": "2025-06-06T14:54:45.204582Z",
     "shell.execute_reply": "2025-06-06T14:54:45.203326Z"
    },
    "papermill": {
     "duration": 0.017322,
     "end_time": "2025-06-06T14:54:45.206384",
     "exception": false,
     "start_time": "2025-06-06T14:54:45.189062",
     "status": "completed"
    },
    "tags": []
   },
   "outputs": [],
   "source": [
    "from sklearn.preprocessing import StandardScaler\n",
    "scaler = StandardScaler()"
   ]
  },
  {
   "cell_type": "code",
   "execution_count": 20,
   "id": "1bb809b2",
   "metadata": {
    "execution": {
     "iopub.execute_input": "2025-06-06T14:54:45.224123Z",
     "iopub.status.busy": "2025-06-06T14:54:45.223806Z",
     "iopub.status.idle": "2025-06-06T14:54:45.232034Z",
     "shell.execute_reply": "2025-06-06T14:54:45.230911Z"
    },
    "papermill": {
     "duration": 0.018988,
     "end_time": "2025-06-06T14:54:45.233752",
     "exception": false,
     "start_time": "2025-06-06T14:54:45.214764",
     "status": "completed"
    },
    "tags": []
   },
   "outputs": [],
   "source": [
    "X_scaled = pd.DataFrame(scaler.fit_transform(X_train), columns = X.columns)"
   ]
  },
  {
   "cell_type": "code",
   "execution_count": 21,
   "id": "e99659f0",
   "metadata": {
    "execution": {
     "iopub.execute_input": "2025-06-06T14:54:45.251022Z",
     "iopub.status.busy": "2025-06-06T14:54:45.250729Z",
     "iopub.status.idle": "2025-06-06T14:54:45.257680Z",
     "shell.execute_reply": "2025-06-06T14:54:45.256747Z"
    },
    "papermill": {
     "duration": 0.017587,
     "end_time": "2025-06-06T14:54:45.259366",
     "exception": false,
     "start_time": "2025-06-06T14:54:45.241779",
     "status": "completed"
    },
    "tags": []
   },
   "outputs": [],
   "source": [
    "X_test_scaled = pd.DataFrame(scaler.transform(X_test), columns = X.columns)"
   ]
  },
  {
   "cell_type": "code",
   "execution_count": 22,
   "id": "c483a66d",
   "metadata": {
    "execution": {
     "iopub.execute_input": "2025-06-06T14:54:45.276726Z",
     "iopub.status.busy": "2025-06-06T14:54:45.276424Z",
     "iopub.status.idle": "2025-06-06T14:54:45.688851Z",
     "shell.execute_reply": "2025-06-06T14:54:45.687556Z"
    },
    "papermill": {
     "duration": 0.423211,
     "end_time": "2025-06-06T14:54:45.690855",
     "exception": false,
     "start_time": "2025-06-06T14:54:45.267644",
     "status": "completed"
    },
    "tags": []
   },
   "outputs": [],
   "source": [
    "from sklearn.tree import DecisionTreeRegressor\n",
    "from sklearn.model_selection import GridSearchCV\n",
    "from sklearn.metrics import mean_squared_error"
   ]
  },
  {
   "cell_type": "code",
   "execution_count": 23,
   "id": "990e8b90",
   "metadata": {
    "execution": {
     "iopub.execute_input": "2025-06-06T14:54:45.708966Z",
     "iopub.status.busy": "2025-06-06T14:54:45.708674Z",
     "iopub.status.idle": "2025-06-06T14:54:45.713798Z",
     "shell.execute_reply": "2025-06-06T14:54:45.712576Z"
    },
    "papermill": {
     "duration": 0.015864,
     "end_time": "2025-06-06T14:54:45.715426",
     "exception": false,
     "start_time": "2025-06-06T14:54:45.699562",
     "status": "completed"
    },
    "tags": []
   },
   "outputs": [],
   "source": [
    "param_grid = {\n",
    "            \"max_depth\" : [10, 20, 30, None],\n",
    "            \"min_samples_split\" : [2, 5, 10],\n",
    "            \"min_samples_leaf\" : [1, 2, 4]\n",
    "}"
   ]
  },
  {
   "cell_type": "code",
   "execution_count": 24,
   "id": "82b04f30",
   "metadata": {
    "execution": {
     "iopub.execute_input": "2025-06-06T14:54:45.733028Z",
     "iopub.status.busy": "2025-06-06T14:54:45.732731Z",
     "iopub.status.idle": "2025-06-06T14:54:48.509634Z",
     "shell.execute_reply": "2025-06-06T14:54:48.508035Z"
    },
    "papermill": {
     "duration": 2.788037,
     "end_time": "2025-06-06T14:54:48.511623",
     "exception": false,
     "start_time": "2025-06-06T14:54:45.723586",
     "status": "completed"
    },
    "tags": []
   },
   "outputs": [
    {
     "name": "stdout",
     "output_type": "stream",
     "text": [
      "Fitting 5 folds for each of 36 candidates, totalling 180 fits\n",
      "{'max_depth': 10, 'min_samples_leaf': 1, 'min_samples_split': 2}\n"
     ]
    }
   ],
   "source": [
    "model = DecisionTreeRegressor(random_state = 42)\n",
    "grid_search = GridSearchCV(estimator = model, param_grid = param_grid,\n",
    "                          cv = 5, n_jobs = -1, verbose = 2, scoring = \"neg_mean_squared_error\")\n",
    "\n",
    "grid_search.fit(X_scaled, y_train)\n",
    "\n",
    "best_tree = grid_search.best_estimator_\n",
    "\n",
    "y_pred = best_tree.predict(X_test_scaled)\n",
    "\n",
    "#print(\"rmse : \",mean_squared_error(y_test, y_pred)**0.5)\n",
    "\n",
    "print(grid_search.best_params_)\n"
   ]
  },
  {
   "cell_type": "code",
   "execution_count": 25,
   "id": "eb4b2897",
   "metadata": {
    "execution": {
     "iopub.execute_input": "2025-06-06T14:54:48.531149Z",
     "iopub.status.busy": "2025-06-06T14:54:48.530803Z",
     "iopub.status.idle": "2025-06-06T14:54:48.537411Z",
     "shell.execute_reply": "2025-06-06T14:54:48.536006Z"
    },
    "papermill": {
     "duration": 0.01773,
     "end_time": "2025-06-06T14:54:48.539077",
     "exception": false,
     "start_time": "2025-06-06T14:54:48.521347",
     "status": "completed"
    },
    "tags": []
   },
   "outputs": [
    {
     "name": "stdout",
     "output_type": "stream",
     "text": [
      "[19.  21.2 20.7  6.6 23.8 13.3 22.6  9.7 11.7 14.1  3.2  8.6 12.5  6.6\n",
      " 10.3 12.6  6.6 16.6 11.4 20.2 20.1 11.8 10.8 23.8  9.9  8.6 22.6 12.2\n",
      " 10.6  3.2 11.6 10.9 21.2  9.3 15.9 20.1 13.6 20.2 12.4  7.6]\n"
     ]
    }
   ],
   "source": [
    "print(y_pred)"
   ]
  },
  {
   "cell_type": "code",
   "execution_count": 26,
   "id": "cf797a46",
   "metadata": {
    "execution": {
     "iopub.execute_input": "2025-06-06T14:54:48.556891Z",
     "iopub.status.busy": "2025-06-06T14:54:48.556585Z",
     "iopub.status.idle": "2025-06-06T14:54:48.564015Z",
     "shell.execute_reply": "2025-06-06T14:54:48.562942Z"
    },
    "papermill": {
     "duration": 0.018278,
     "end_time": "2025-06-06T14:54:48.565856",
     "exception": false,
     "start_time": "2025-06-06T14:54:48.547578",
     "status": "completed"
    },
    "tags": []
   },
   "outputs": [
    {
     "data": {
      "text/plain": [
       "95     16.9\n",
       "15     22.4\n",
       "30     21.4\n",
       "158     7.3\n",
       "128    24.7\n",
       "Name: Sales ($), dtype: float64"
      ]
     },
     "execution_count": 26,
     "metadata": {},
     "output_type": "execute_result"
    }
   ],
   "source": [
    "y_test.head()"
   ]
  },
  {
   "cell_type": "code",
   "execution_count": 27,
   "id": "e3939575",
   "metadata": {
    "execution": {
     "iopub.execute_input": "2025-06-06T14:54:48.585077Z",
     "iopub.status.busy": "2025-06-06T14:54:48.584740Z",
     "iopub.status.idle": "2025-06-06T14:54:48.593370Z",
     "shell.execute_reply": "2025-06-06T14:54:48.592477Z"
    },
    "papermill": {
     "duration": 0.020724,
     "end_time": "2025-06-06T14:54:48.594857",
     "exception": false,
     "start_time": "2025-06-06T14:54:48.574133",
     "status": "completed"
    },
    "tags": []
   },
   "outputs": [],
   "source": [
    "from sklearn.metrics import r2_score, mean_absolute_error\n",
    "r2 = r2_score(y_test, y_pred)\n",
    "rrmse = mean_squared_error(y_test, y_pred, squared=False)\n",
    "mae = mean_absolute_error(y_test, y_pred)\n",
    "mape = np.mean(np.abs((y_test - y_pred) / y_test)) * 100\n"
   ]
  },
  {
   "cell_type": "code",
   "execution_count": 28,
   "id": "3dda1a1a",
   "metadata": {
    "execution": {
     "iopub.execute_input": "2025-06-06T14:54:48.613755Z",
     "iopub.status.busy": "2025-06-06T14:54:48.613341Z",
     "iopub.status.idle": "2025-06-06T14:54:48.618783Z",
     "shell.execute_reply": "2025-06-06T14:54:48.617593Z"
    },
    "papermill": {
     "duration": 0.016752,
     "end_time": "2025-06-06T14:54:48.620218",
     "exception": false,
     "start_time": "2025-06-06T14:54:48.603466",
     "status": "completed"
    },
    "tags": []
   },
   "outputs": [
    {
     "name": "stdout",
     "output_type": "stream",
     "text": [
      "r2: 0.9353210532308286, rmse : 1.4288106942488918, mae : 0.9550000000000001, mape : 8.765937684758123,  \n"
     ]
    }
   ],
   "source": [
    "print(f\"r2: {r2}, rmse : {rrmse}, mae : {mae}, mape : {mape},  \")"
   ]
  },
  {
   "cell_type": "markdown",
   "id": "da046302",
   "metadata": {
    "papermill": {
     "duration": 0.008439,
     "end_time": "2025-06-06T14:54:48.636865",
     "exception": false,
     "start_time": "2025-06-06T14:54:48.628426",
     "status": "completed"
    },
    "tags": []
   },
   "source": [
    "| Metric             | Value   | Meaning                                                                                                                                     |\n",
    "| ------------------ | ------- | ------------------------------------------------------------------------------------------------------------------------------------------- |\n",
    "| **R² (R-squared)** | `0.935` | It means **93.5% of the variance** in sales is explained by your model. Closer to 1 is better.                                   |\n",
    "| **RMSE**           | `1.43`  | On average, predictions deviate from the true values by **\\~1.43 units**. Since sales range from 1.6 to 27, this is a **small error**. |\n",
    "| **MAE**            | `0.955` | On average, predictions are **\\~0.96 units off** from the actual sales values. Lower = better.                                         |\n",
    "| **MAPE**           | `8.76%` | predictions making less than **9% average relative error**, which is **very good**. MAPE below 10% is usually considered **highly accurate**.    |\n"
   ]
  }
 ],
 "metadata": {
  "kaggle": {
   "accelerator": "none",
   "dataSources": [
    {
     "datasetId": 1819823,
     "sourceId": 2968385,
     "sourceType": "datasetVersion"
    }
   ],
   "dockerImageVersionId": 31040,
   "isGpuEnabled": false,
   "isInternetEnabled": true,
   "language": "python",
   "sourceType": "notebook"
  },
  "kernelspec": {
   "display_name": "Python 3",
   "language": "python",
   "name": "python3"
  },
  "language_info": {
   "codemirror_mode": {
    "name": "ipython",
    "version": 3
   },
   "file_extension": ".py",
   "mimetype": "text/x-python",
   "name": "python",
   "nbconvert_exporter": "python",
   "pygments_lexer": "ipython3",
   "version": "3.11.11"
  },
  "papermill": {
   "default_parameters": {},
   "duration": 17.98025,
   "end_time": "2025-06-06T14:54:51.267608",
   "environment_variables": {},
   "exception": null,
   "input_path": "__notebook__.ipynb",
   "output_path": "__notebook__.ipynb",
   "parameters": {},
   "start_time": "2025-06-06T14:54:33.287358",
   "version": "2.6.0"
  }
 },
 "nbformat": 4,
 "nbformat_minor": 5
}
